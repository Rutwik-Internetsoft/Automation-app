{
 "cells": [
  {
   "cell_type": "code",
   "execution_count": 1,
   "metadata": {},
   "outputs": [],
   "source": [
    "# This sample code supports Appium Python client >=2.3.0\n",
    "# pip install Appium-Python-Client\n",
    "# Then you can paste this into a file and simply run with Python\n",
    "\n",
    "from appium import webdriver\n",
    "from appium.options.common.base import AppiumOptions\n",
    "from appium.webdriver.common.appiumby import AppiumBy\n",
    "\n",
    "options = AppiumOptions()\n",
    "options.load_capabilities({\n",
    "\t\"platformName\": \"Android\",\n",
    "\t\"appium:deviceName\": \"TS44234T40523\",\n",
    "\t\"appium:automationName\": \"UiAutomator2\",\n",
    "\t\"appium:appPackage\": \"com.pays.pos\",\n",
    "\t\"appium:appActivity\": \".ui.activities.MainActivity\",\n",
    "\t\"appium:noReset\": True,\n",
    "\t\"appium:fullReset\": False,\n",
    "\t\"appium:ensureWebviewsHavePages\": True,\n",
    "\t\"appium:nativeWebScreenshot\": True,\n",
    "\t\"appium:newCommandTimeout\": 3600,\n",
    "\t\"appium:connectHardwareKeyboard\": True,\n",
    "    \"allowInsecure\": [\"adb_shell\"]  # Add this line\n",
    "\n",
    "})\n",
    "\n",
    "driver = webdriver.Remote(\"http://127.0.0.1:4723\", options=options)\n"
   ]
  },
  {
   "cell_type": "code",
   "execution_count": 20,
   "metadata": {},
   "outputs": [],
   "source": [
    "driver.find_element(AppiumBy.XPATH,'//android.widget.ListView/android.widget.LinearLayout[3]').click()\n"
   ]
  },
  {
   "cell_type": "code",
   "execution_count": null,
   "metadata": {},
   "outputs": [],
   "source": []
  }
 ],
 "metadata": {
  "kernelspec": {
   "display_name": "automation",
   "language": "python",
   "name": "python3"
  },
  "language_info": {
   "codemirror_mode": {
    "name": "ipython",
    "version": 3
   },
   "file_extension": ".py",
   "mimetype": "text/x-python",
   "name": "python",
   "nbconvert_exporter": "python",
   "pygments_lexer": "ipython3",
   "version": "3.10.16"
  }
 },
 "nbformat": 4,
 "nbformat_minor": 2
}
