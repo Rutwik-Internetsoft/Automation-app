{
 "cells": [
  {
   "cell_type": "code",
   "execution_count": null,
   "metadata": {},
   "outputs": [],
   "source": [
    "# This sample code supports Appium Python client >=2.3.0\n",
    "# pip install Appium-Python-Client\n",
    "# Then you can paste this into a file and simply run with Python\n",
    "\n",
    "from appium import webdriver\n",
    "from appium.options.common.base import AppiumOptions\n",
    "from appium.webdriver.common.appiumby import AppiumBy\n",
    "from selenium.webdriver.common.action_chains import ActionChains\n",
    "\n",
    "options = AppiumOptions()\n",
    "options.load_capabilities({\n",
    "\t\"platformName\": \"Android\",\n",
    "\t\"appium:deviceName\": \"TS44234T40523\",\n",
    "\t\"appium:automationName\": \"UiAutomator2\",\n",
    "\t\"appium:appPackage\": \"com.pays.pos\",\n",
    "\t\"appium:appActivity\": \".ui.activities.MainActivity\",\n",
    "\t\"appium:noReset\": True,\n",
    "\t\"appium:fullReset\": False,\n",
    "\t\"appium:ensureWebviewsHavePages\": True,\n",
    "\t\"appium:nativeWebScreenshot\": True,\n",
    "\t\"appium:newCommandTimeout\": 3600,\n",
    "\t\"appium:connectHardwareKeyboard\": True,\n",
    "    \"allowInsecure\": [\"adb_shell\"]  # Add this line\n",
    "\n",
    "})\n",
    "\n",
    "driver = webdriver.Remote(\"http://127.0.0.1:4723\", options=options)\n"
   ]
  },
  {
   "cell_type": "code",
   "execution_count": 10,
   "metadata": {},
   "outputs": [
    {
     "ename": "AttributeError",
     "evalue": "type object 'PointerInput' has no attribute 'INPUT_TYPE_TOUCH'",
     "output_type": "error",
     "traceback": [
      "\u001b[1;31m---------------------------------------------------------------------------\u001b[0m",
      "\u001b[1;31mAttributeError\u001b[0m                            Traceback (most recent call last)",
      "Cell \u001b[1;32mIn[10], line 27\u001b[0m\n\u001b[0;32m     25\u001b[0m source \u001b[38;5;241m=\u001b[39m driver\u001b[38;5;241m.\u001b[39mfind_element(\u001b[38;5;124m\"\u001b[39m\u001b[38;5;124mxpath\u001b[39m\u001b[38;5;124m\"\u001b[39m, \u001b[38;5;124m'\u001b[39m\u001b[38;5;124m(//android.widget.ImageView[@resource-id=\u001b[39m\u001b[38;5;124m\"\u001b[39m\u001b[38;5;124mcom.pays.pos:id/imageCheck\u001b[39m\u001b[38;5;124m\"\u001b[39m\u001b[38;5;124m])[4]\u001b[39m\u001b[38;5;124m'\u001b[39m)\n\u001b[0;32m     26\u001b[0m target \u001b[38;5;241m=\u001b[39m driver\u001b[38;5;241m.\u001b[39mfind_element(\u001b[38;5;124m\"\u001b[39m\u001b[38;5;124mxpath\u001b[39m\u001b[38;5;124m\"\u001b[39m, \u001b[38;5;124m'\u001b[39m\u001b[38;5;124m(//android.widget.ImageView[@resource-id=\u001b[39m\u001b[38;5;124m\"\u001b[39m\u001b[38;5;124mcom.pays.pos:id/imageCheck\u001b[39m\u001b[38;5;124m\"\u001b[39m\u001b[38;5;124m])[1]\u001b[39m\u001b[38;5;124m'\u001b[39m)\n\u001b[1;32m---> 27\u001b[0m \u001b[43mdrag_and_drop\u001b[49m\u001b[43m(\u001b[49m\u001b[43mdriver\u001b[49m\u001b[43m,\u001b[49m\u001b[43m \u001b[49m\u001b[43msource\u001b[49m\u001b[43m,\u001b[49m\u001b[43m \u001b[49m\u001b[43mtarget\u001b[49m\u001b[43m)\u001b[49m\n",
      "Cell \u001b[1;32mIn[10], line 10\u001b[0m, in \u001b[0;36mdrag_and_drop\u001b[1;34m(driver, source_element, target_element)\u001b[0m\n\u001b[0;32m      8\u001b[0m \u001b[38;5;66;03m# Create action chain\u001b[39;00m\n\u001b[0;32m      9\u001b[0m actions \u001b[38;5;241m=\u001b[39m ActionChains(driver)\n\u001b[1;32m---> 10\u001b[0m pointer \u001b[38;5;241m=\u001b[39m PointerInput(\u001b[43mPointerInput\u001b[49m\u001b[38;5;241;43m.\u001b[39;49m\u001b[43mINPUT_TYPE_TOUCH\u001b[49m, \u001b[38;5;124m\"\u001b[39m\u001b[38;5;124mfinger\u001b[39m\u001b[38;5;124m\"\u001b[39m)\n\u001b[0;32m     12\u001b[0m \u001b[38;5;66;03m# Build drag & drop actions\u001b[39;00m\n\u001b[0;32m     13\u001b[0m action_builder \u001b[38;5;241m=\u001b[39m ActionBuilder(driver, mouse\u001b[38;5;241m=\u001b[39mpointer)\n",
      "\u001b[1;31mAttributeError\u001b[0m: type object 'PointerInput' has no attribute 'INPUT_TYPE_TOUCH'"
     ]
    }
   ],
   "source": [
    "from selenium.webdriver.common.action_chains import ActionChains\n",
    "from selenium.webdriver.common.actions.action_builder import ActionBuilder\n",
    "from selenium.webdriver.common.actions.pointer_input import PointerInput\n",
    "\n",
    "def drag_and_drop(driver, source_element, target_element):\n",
    "    \"\"\"Performs a drag and drop action using W3C Actions API\"\"\"\n",
    "    \n",
    "    # Create action chain\n",
    "    actions = ActionChains(driver)\n",
    "    pointer = PointerInput(PointerInput.INPUT_TYPE_TOUCH, \"finger\")\n",
    "\n",
    "    # Build drag & drop actions\n",
    "    action_builder = ActionBuilder(driver, mouse=pointer)\n",
    "    action_builder.pointer_action.move_to(source_element)\n",
    "    action_builder.pointer_action.pointer_down()\n",
    "    action_builder.pointer_action.move_to(target_element)\n",
    "    action_builder.pointer_action.pointer_up()\n",
    "\n",
    "    # Perform the action\n",
    "    driver.perform(action_builder)\n",
    "\n",
    "\n",
    "    \n",
    "# Usage\n",
    "source = driver.find_element(\"xpath\", '(//android.widget.ImageView[@resource-id=\"com.pays.pos:id/imageCheck\"])[4]')\n",
    "target = driver.find_element(\"xpath\", '(//android.widget.ImageView[@resource-id=\"com.pays.pos:id/imageCheck\"])[1]')\n",
    "drag_and_drop(driver, source, target)\n"
   ]
  },
  {
   "cell_type": "code",
   "execution_count": null,
   "metadata": {},
   "outputs": [],
   "source": []
  }
 ],
 "metadata": {
  "kernelspec": {
   "display_name": "automation",
   "language": "python",
   "name": "python3"
  },
  "language_info": {
   "codemirror_mode": {
    "name": "ipython",
    "version": 3
   },
   "file_extension": ".py",
   "mimetype": "text/x-python",
   "name": "python",
   "nbconvert_exporter": "python",
   "pygments_lexer": "ipython3",
   "version": "3.10.16"
  }
 },
 "nbformat": 4,
 "nbformat_minor": 2
}
