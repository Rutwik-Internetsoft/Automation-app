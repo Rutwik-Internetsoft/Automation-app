{
 "cells": [
  {
   "cell_type": "code",
   "execution_count": 1,
   "metadata": {},
   "outputs": [],
   "source": [
    "# This sample code supports Appium Python client >=2.3.0\n",
    "# pip install Appium-Python-Client\n",
    "# Then you can paste this into a file and simply run with Python\n",
    "\n",
    "from appium import webdriver\n",
    "from appium.options.common.base import AppiumOptions\n",
    "from appium.webdriver.common.appiumby import AppiumBy\n",
    "from selenium.webdriver.support.ui import WebDriverWait\n",
    "from selenium.webdriver.support import expected_conditions as EC\n",
    "\n",
    "\n",
    "options = AppiumOptions()\n",
    "options.load_capabilities({\n",
    "\t\"platformName\": \"Android\",\n",
    "\t\"appium:deviceName\": \"TS44234T40523\",\n",
    "\t\"appium:automationName\": \"UiAutomator2\",\n",
    "\t\"appium:appPackage\": \"com.pays.pos\",\n",
    "\t\"appium:appActivity\": \".ui.activities.MainActivity\",\n",
    "\t\"appium:noReset\": True,\n",
    "\t\"appium:fullReset\": False,\n",
    "\t\"appium:ensureWebviewsHavePages\": True,\n",
    "\t\"appium:nativeWebScreenshot\": True,\n",
    "\t\"appium:newCommandTimeout\": 3600,\n",
    "\t\"appium:connectHardwareKeyboard\": True,\n",
    "    \"allowInsecure\": [\"adb_shell\"]\n",
    "})\n",
    "\n",
    "driver = webdriver.Remote(\"http://127.0.0.1:4723\", options=options)\n",
    "wait = WebDriverWait(driver, 10)\n"
   ]
  },
  {
   "cell_type": "code",
   "execution_count": 6,
   "metadata": {},
   "outputs": [],
   "source": [
    "import yaml\n",
    "import json\n",
    "\n",
    "def load_yaml(file_path):\n",
    "    with open(file_path, 'r') as file:\n",
    "        data = yaml.safe_load(file)\n",
    "    return data\n",
    "\n",
    "# Example usage\n",
    "locators = load_yaml(\"C:/Users/rutwik/Automation/Automation-logic/logic/locators.yaml\")\n",
    "\n",
    "# Save to JSON\n",
    "with open(\"C:/Users/rutwik/Automation/AI-Agent/Locators-Json/locators.json\", \"w\") as json_file:\n",
    "    json.dump(locators, json_file, indent=4)\n"
   ]
  },
  {
   "cell_type": "code",
   "execution_count": 7,
   "metadata": {},
   "outputs": [
    {
     "name": "stdout",
     "output_type": "stream",
     "text": [
      "Saved functions from cash_log_logic.py to cash_log_logic_functions.json\n",
      "Saved functions from dependencies.py to dependencies_functions.json\n",
      "Saved functions from dining_logic.py to dining_logic_functions.json\n",
      "Saved functions from locators.py to locators_functions.json\n",
      "Saved functions from login_logic.py to login_logic_functions.json\n",
      "Saved functions from loyality_program_logic.py to loyality_program_logic_functions.json\n",
      "Saved functions from setup_logic.py to setup_logic_functions.json\n",
      "Saved functions from split_logic.py to split_logic_functions.json\n",
      "Saved functions from takeout_logic.py to takeout_logic_functions.json\n",
      "Saved functions from __init__.py to __init___functions.json\n"
     ]
    }
   ],
   "source": [
    "import ast\n",
    "import os\n",
    "import json\n",
    "\n",
    "def extract_functions(file_path):\n",
    "    \"\"\"\n",
    "    Extracts functions from a Python file.\n",
    "    \"\"\"\n",
    "    with open(file_path, \"r\") as file:\n",
    "        tree = ast.parse(file.read())\n",
    "\n",
    "    functions = {}\n",
    "    for node in ast.walk(tree):\n",
    "        if isinstance(node, ast.FunctionDef):\n",
    "            func_name = node.name\n",
    "            docstring = ast.get_docstring(node) or \"No description\"\n",
    "            functions[func_name] = docstring\n",
    "    \n",
    "    return functions\n",
    "\n",
    "def store_logic_functions(logic_folder):\n",
    "    \"\"\"\n",
    "    Loops through the logic folder and extracts functions for each file.\n",
    "    Stores them as individual JSON files.\n",
    "    \"\"\"\n",
    "    for file in os.listdir(logic_folder):\n",
    "        if file.endswith(\".py\"):\n",
    "            file_path = os.path.join(logic_folder, file)\n",
    "            functions = extract_functions(file_path)\n",
    "\n",
    "            # Save the functions to a JSON file named after the logic file\n",
    "            json_filename = os.path.splitext(file)[0] + \"_functions.json\"\n",
    "            with open(json_filename, \"w\") as json_file:\n",
    "                json.dump(functions, json_file, indent=4)\n",
    "            print(f\"Saved functions from {file} to {json_filename}\")\n",
    "\n",
    "# Example usage\n",
    "logic_folder = \"C:/Users/rutwik/Automation/Automation-logic/logic/\"\n",
    "store_logic_functions(logic_folder)\n"
   ]
  },
  {
   "cell_type": "code",
   "execution_count": 4,
   "metadata": {},
   "outputs": [],
   "source": [
    "import os\n",
    "import ast\n",
    "import json\n",
    "def extract_test_script_calls(test_script):\n",
    "    with open(test_script, \"r\") as file:\n",
    "        tree = ast.parse(file.read())\n",
    "\n",
    "    called_functions = []\n",
    "    for node in ast.walk(tree):\n",
    "        if isinstance(node, ast.Call) and isinstance(node.func, ast.Name):\n",
    "            called_functions.append(node.func.id)\n",
    "\n",
    "    return called_functions\n",
    "\n",
    "# Example usage\n",
    "test_folder = \"C:/Users/rutwik/Automation/Automation-logic/suits/test_orderflows/test_cash\"\n",
    "test_data = {}\n",
    "\n",
    "for file in os.listdir(test_folder):\n",
    "    if file.endswith(\".py\"):\n",
    "        test_data[file] = extract_test_script_calls(os.path.join(test_folder, file))\n",
    "\n",
    "# Save extracted test script workflows\n",
    "with open(\"test_scripts.json\", \"w\") as json_file:\n",
    "    json.dump(test_data, json_file, indent=4)\n"
   ]
  },
  {
   "cell_type": "code",
   "execution_count": 23,
   "metadata": {},
   "outputs": [
    {
     "name": "stdout",
     "output_type": "stream",
     "text": [
      "{'p'}\n",
      "{'w', 'p'}\n",
      "{'w'}\n",
      "{'w', 'k'}\n",
      "{'w', 'k', 'e'}\n",
      "{'w', 'k', 'e'}\n",
      "3\n"
     ]
    }
   ],
   "source": [
    "\n",
    "s = \"pwwkew\"\n",
    "n = set()\n",
    "new_max = 0\n",
    "l = 0\n",
    "for i in range(len(s)):\n",
    "    if s[i] not in n:\n",
    "        n.add(s[i])\n",
    "        new_max = max(new_max,i-l+1)\n",
    "    else:\n",
    "        while s[i] in n:\n",
    "            n.remove(s[l])\n",
    "            l+=1\n",
    "        n.add(s[i])\n",
    "    print(n)\n",
    "print(new_max)\n",
    "            "
   ]
  },
  {
   "cell_type": "code",
   "execution_count": 69,
   "metadata": {},
   "outputs": [
    {
     "name": "stdout",
     "output_type": "stream",
     "text": [
      "887\n"
     ]
    }
   ],
   "source": [
    "r = -212\n",
    "f = \"\"\n",
    "for i in range(3):\n",
    "    m = abs(r%10)\n",
    "    r = r//10\n",
    "    f+=str(m)\n",
    "print(int(f))"
   ]
  },
  {
   "cell_type": "code",
   "execution_count": null,
   "metadata": {},
   "outputs": [],
   "source": []
  }
 ],
 "metadata": {
  "kernelspec": {
   "display_name": "automation",
   "language": "python",
   "name": "python3"
  },
  "language_info": {
   "codemirror_mode": {
    "name": "ipython",
    "version": 3
   },
   "file_extension": ".py",
   "mimetype": "text/x-python",
   "name": "python",
   "nbconvert_exporter": "python",
   "pygments_lexer": "ipython3",
   "version": "3.10.16"
  }
 },
 "nbformat": 4,
 "nbformat_minor": 2
}
